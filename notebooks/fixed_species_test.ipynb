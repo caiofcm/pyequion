{
 "cells": [
  {
   "cell_type": "code",
   "execution_count": 3,
   "metadata": {},
   "outputs": [],
   "source": [
    "# -*- coding: utf-8 -*-\n",
    "import sys\n",
    "sys.path.append('..')\n",
    "import os\n",
    "import functools\n",
    "import itertools\n",
    "import copy\n",
    "import collections\n",
    "from pathlib import Path\n",
    "import re\n",
    "\n",
    "import numpy as np\n",
    "import scipy.linalg\n",
    "import pyequion\n",
    "\n",
    "# Important setting:\n",
    "# '1': disable JIT: slower execution\n",
    "# '0': enable JIT: faster execution but it compiles the function, hence having a overhead\n",
    "os.environ['NUMBA_DISABLE_JIT'] = '0'"
   ]
  },
  {
   "cell_type": "code",
   "execution_count": 4,
   "metadata": {},
   "outputs": [],
   "source": [
    "%load_ext autoreload\n",
    "%autoreload 2"
   ]
  },
  {
   "cell_type": "code",
   "execution_count": 5,
   "metadata": {},
   "outputs": [],
   "source": [
    "feed_comps = ['Na+','HCO3-', 'Ca++','Cl-','Ba++','Mg++','SO4--']\n",
    "reaction_system,species,reactions,_,engine_idxs,_,_,_ = pyequion.create_equilibrium(feed_comps,\n",
    "                                                                          possible_aqueous_reactions_in=None,\n",
    "                                                                          return_intermediaries=True)\n",
    "#raise KeyError\n",
    "pyequion.setup_system_for_direct_run(reaction_system)\n",
    "\n",
    "X_GUESS = np.array([-1.0 for i in range(len(species)-1)])\n"
   ]
  },
  {
   "cell_type": "code",
   "execution_count": 6,
   "metadata": {},
   "outputs": [],
   "source": [
    "comps_vals = {\n",
    "        'Na+': 75,\n",
    "        'HCO3-': 65,\n",
    "        'Cl-': 56,\n",
    "        'Ba++':6,\n",
    "        'Mg++':18,\n",
    "        'Ca++': 28,\n",
    "        'SO4--':9\n",
    "}\n",
    "solution = pyequion.solve_solution_pre_loaded(comps_vals,\n",
    "                                              reaction_system,\n",
    "                                              X_GUESS,\n",
    "                                              TC=300.0-273.15)\n"
   ]
  },
  {
   "cell_type": "code",
   "execution_count": 7,
   "metadata": {},
   "outputs": [
    {
     "name": "stdout",
     "output_type": "stream",
     "text": [
      "Na+ 0.06950199826285826\n",
      "HCO3- 0.02264423241486083\n",
      "Ca++ 0.009332649799004656\n",
      "Cl- 0.05600000000000001\n",
      "Ba++ 0.0031998440200857454\n",
      "Mg++ 0.0077539916811782\n",
      "SO4-- 0.005332234663833826\n",
      "OH- 5.947793851568443e-05\n",
      "H+ 3.4212414594501865e-10\n",
      "CO2 9.854794348806061e-06\n",
      "CaOH+ 2.658627030230129e-06\n",
      "HSO4- 6.410362509293988e-11\n",
      "CaHSO4+ 2.511669938552883e-12\n",
      "MgOH+ 6.0159409962272955e-05\n",
      "NaOH 1.2599113502632065e-06\n",
      "BaOH+ 1.7646154117966608e-07\n",
      "NaHCO3 0.0004917495243938937\n",
      "NaSO4- 0.0006121343102440617\n",
      "CO3-- 0.008904924860841388\n",
      "CaCO3 0.01672168298885447\n",
      "MgCO3 0.008239518995251315\n",
      "MgHCO3+ 0.0007674882704215685\n",
      "NaCO3- 0.0043158407411982265\n",
      "Na2CO3 3.8508624977644714e-05\n",
      "BaCO3 0.0016656466435655568\n",
      "CaHCO3+ 0.0009559777630348712\n",
      "BaHCO3+ 0.0002445743782514477\n",
      "CaSO4 0.0009870308195641026\n",
      "BaSO4 0.0008897584965560697\n",
      "MgSO4 0.0011788416431866451\n",
      "H2O 1.0\n"
     ]
    }
   ],
   "source": [
    "#It is different\n",
    "for key in solution.concentrations.keys():\n",
    "    print(key,solution.concentrations[key])"
   ]
  },
  {
   "cell_type": "code",
   "execution_count": 10,
   "metadata": {},
   "outputs": [
    {
     "data": {
      "text/plain": [
       "{'Na+': 69.50199826285827,\n",
       " 'HCO3-': 22.64423241486083,\n",
       " 'Cl-': 56.00000000000001,\n",
       " 'Ba++': 3.1998440200857456,\n",
       " 'Mg++': 7.7539916811782,\n",
       " 'Ca++': 9.332649799004656,\n",
       " 'SO4--': 5.332234663833827}"
      ]
     },
     "execution_count": 10,
     "metadata": {},
     "output_type": "execute_result"
    }
   ],
   "source": [
    "comps_vals_fixed = dict([(key,solution.concentrations[key]*1000) for key in comps_vals])\n",
    "comps_vals_fixed"
   ]
  },
  {
   "cell_type": "code",
   "execution_count": 11,
   "metadata": {},
   "outputs": [
    {
     "ename": "TypeError",
     "evalue": "Improper input: N=30 must not exceed M=23",
     "output_type": "error",
     "traceback": [
      "\u001b[0;31m---------------------------------------------------------------------------\u001b[0m",
      "\u001b[0;31mTypeError\u001b[0m                                 Traceback (most recent call last)",
      "\u001b[0;32m<ipython-input-11-98a815726b14>\u001b[0m in \u001b[0;36m<module>\u001b[0;34m\u001b[0m\n\u001b[1;32m      2\u001b[0m                                               \u001b[0mreaction_system\u001b[0m\u001b[0;34m,\u001b[0m\u001b[0;34m\u001b[0m\u001b[0;34m\u001b[0m\u001b[0m\n\u001b[1;32m      3\u001b[0m                                               \u001b[0mX_GUESS\u001b[0m\u001b[0;34m,\u001b[0m\u001b[0;34m\u001b[0m\u001b[0;34m\u001b[0m\u001b[0m\n\u001b[0;32m----> 4\u001b[0;31m                                               TC=300.0-273.15)\n\u001b[0m",
      "\u001b[0;32m~/Danilo/NIDF/PyEquionPure/pyequion/pyequion/pyequion.py\u001b[0m in \u001b[0;36msolve_solution_fixed_species_pre_loaded\u001b[0;34m(comp_dict, reaction_system, x_guess, TC, close_type, carbon_total, calc_log_gamma, initial_feed_mass_balance, co2_partial_pressure, user_solver_function, jac)\u001b[0m\n\u001b[1;32m    312\u001b[0m     fsol = solver_function(reaction_system.residual_fixed_species,\n\u001b[1;32m    313\u001b[0m         \u001b[0mx_guess\u001b[0m\u001b[0;34m,\u001b[0m \u001b[0margs_calc_gamma\u001b[0m\u001b[0;34m,\u001b[0m\u001b[0;34m\u001b[0m\u001b[0;34m\u001b[0m\u001b[0m\n\u001b[0;32m--> 314\u001b[0;31m         \u001b[0mjac\u001b[0m\u001b[0;34m=\u001b[0m\u001b[0mjac\u001b[0m\u001b[0;34m\u001b[0m\u001b[0;34m\u001b[0m\u001b[0m\n\u001b[0m\u001b[1;32m    315\u001b[0m     )\n\u001b[1;32m    316\u001b[0m     \u001b[0msolution\u001b[0m \u001b[0;34m=\u001b[0m \u001b[0mreaction_system\u001b[0m\u001b[0;34m.\u001b[0m\u001b[0mcalculate_properties\u001b[0m\u001b[0;34m(\u001b[0m\u001b[0mfsol\u001b[0m\u001b[0;34m.\u001b[0m\u001b[0msuccess\u001b[0m\u001b[0;34m)\u001b[0m\u001b[0;34m\u001b[0m\u001b[0;34m\u001b[0m\u001b[0m\n",
      "\u001b[0;32m~/Danilo/NIDF/PyEquionPure/pyequion/pyequion/properties_utils.py\u001b[0m in \u001b[0;36msolve_with_exception\u001b[0;34m(fun, x0, args, jac)\u001b[0m\n\u001b[1;32m     47\u001b[0m         \u001b[0;31m# kwarg_root = dict(method='hybr', jac=jac, options={'maxfev': int(1e5)})\u001b[0m\u001b[0;34m\u001b[0m\u001b[0;34m\u001b[0m\u001b[0;34m\u001b[0m\u001b[0m\n\u001b[1;32m     48\u001b[0m         \u001b[0mkwarg_root\u001b[0m \u001b[0;34m=\u001b[0m \u001b[0mdict\u001b[0m\u001b[0;34m(\u001b[0m\u001b[0mmethod\u001b[0m\u001b[0;34m=\u001b[0m\u001b[0;34m\"lm\"\u001b[0m\u001b[0;34m,\u001b[0m \u001b[0mjac\u001b[0m\u001b[0;34m=\u001b[0m\u001b[0mjac\u001b[0m\u001b[0;34m)\u001b[0m\u001b[0;34m\u001b[0m\u001b[0;34m\u001b[0m\u001b[0m\n\u001b[0;32m---> 49\u001b[0;31m     \u001b[0msol\u001b[0m \u001b[0;34m=\u001b[0m \u001b[0moptimize\u001b[0m\u001b[0;34m.\u001b[0m\u001b[0mroot\u001b[0m\u001b[0;34m(\u001b[0m\u001b[0mfun\u001b[0m\u001b[0;34m,\u001b[0m \u001b[0mx0\u001b[0m\u001b[0;34m,\u001b[0m \u001b[0mtol\u001b[0m\u001b[0;34m=\u001b[0m\u001b[0;36m1e-15\u001b[0m\u001b[0;34m,\u001b[0m \u001b[0;34m**\u001b[0m\u001b[0mkwarg_root\u001b[0m\u001b[0;34m)\u001b[0m\u001b[0;34m\u001b[0m\u001b[0;34m\u001b[0m\u001b[0m\n\u001b[0m\u001b[1;32m     50\u001b[0m     \u001b[0;32mif\u001b[0m \u001b[0;32mnot\u001b[0m \u001b[0msol\u001b[0m\u001b[0;34m.\u001b[0m\u001b[0msuccess\u001b[0m\u001b[0;34m:\u001b[0m\u001b[0;34m\u001b[0m\u001b[0;34m\u001b[0m\u001b[0m\n\u001b[1;32m     51\u001b[0m         \u001b[0mprint\u001b[0m\u001b[0;34m(\u001b[0m\u001b[0msol\u001b[0m\u001b[0;34m.\u001b[0m\u001b[0mmessage\u001b[0m\u001b[0;34m)\u001b[0m\u001b[0;34m\u001b[0m\u001b[0;34m\u001b[0m\u001b[0m\n",
      "\u001b[0;32m~/anaconda3/envs/danilo_env_1/lib/python3.7/site-packages/scipy/optimize/_root.py\u001b[0m in \u001b[0;36mroot\u001b[0;34m(fun, x0, args, method, jac, tol, callback, options)\u001b[0m\n\u001b[1;32m    187\u001b[0m         \u001b[0msol\u001b[0m \u001b[0;34m=\u001b[0m \u001b[0m_root_hybr\u001b[0m\u001b[0;34m(\u001b[0m\u001b[0mfun\u001b[0m\u001b[0;34m,\u001b[0m \u001b[0mx0\u001b[0m\u001b[0;34m,\u001b[0m \u001b[0margs\u001b[0m\u001b[0;34m=\u001b[0m\u001b[0margs\u001b[0m\u001b[0;34m,\u001b[0m \u001b[0mjac\u001b[0m\u001b[0;34m=\u001b[0m\u001b[0mjac\u001b[0m\u001b[0;34m,\u001b[0m \u001b[0;34m**\u001b[0m\u001b[0moptions\u001b[0m\u001b[0;34m)\u001b[0m\u001b[0;34m\u001b[0m\u001b[0;34m\u001b[0m\u001b[0m\n\u001b[1;32m    188\u001b[0m     \u001b[0;32melif\u001b[0m \u001b[0mmeth\u001b[0m \u001b[0;34m==\u001b[0m \u001b[0;34m'lm'\u001b[0m\u001b[0;34m:\u001b[0m\u001b[0;34m\u001b[0m\u001b[0;34m\u001b[0m\u001b[0m\n\u001b[0;32m--> 189\u001b[0;31m         \u001b[0msol\u001b[0m \u001b[0;34m=\u001b[0m \u001b[0m_root_leastsq\u001b[0m\u001b[0;34m(\u001b[0m\u001b[0mfun\u001b[0m\u001b[0;34m,\u001b[0m \u001b[0mx0\u001b[0m\u001b[0;34m,\u001b[0m \u001b[0margs\u001b[0m\u001b[0;34m=\u001b[0m\u001b[0margs\u001b[0m\u001b[0;34m,\u001b[0m \u001b[0mjac\u001b[0m\u001b[0;34m=\u001b[0m\u001b[0mjac\u001b[0m\u001b[0;34m,\u001b[0m \u001b[0;34m**\u001b[0m\u001b[0moptions\u001b[0m\u001b[0;34m)\u001b[0m\u001b[0;34m\u001b[0m\u001b[0;34m\u001b[0m\u001b[0m\n\u001b[0m\u001b[1;32m    190\u001b[0m     \u001b[0;32melif\u001b[0m \u001b[0mmeth\u001b[0m \u001b[0;34m==\u001b[0m \u001b[0;34m'df-sane'\u001b[0m\u001b[0;34m:\u001b[0m\u001b[0;34m\u001b[0m\u001b[0;34m\u001b[0m\u001b[0m\n\u001b[1;32m    191\u001b[0m         \u001b[0m_warn_jac_unused\u001b[0m\u001b[0;34m(\u001b[0m\u001b[0mjac\u001b[0m\u001b[0;34m,\u001b[0m \u001b[0mmethod\u001b[0m\u001b[0;34m)\u001b[0m\u001b[0;34m\u001b[0m\u001b[0;34m\u001b[0m\u001b[0m\n",
      "\u001b[0;32m~/anaconda3/envs/danilo_env_1/lib/python3.7/site-packages/scipy/optimize/_root.py\u001b[0m in \u001b[0;36m_root_leastsq\u001b[0;34m(func, x0, args, jac, col_deriv, xtol, ftol, gtol, maxiter, eps, factor, diag, **unknown_options)\u001b[0m\n\u001b[1;32m    250\u001b[0m                                        \u001b[0mftol\u001b[0m\u001b[0;34m=\u001b[0m\u001b[0mftol\u001b[0m\u001b[0;34m,\u001b[0m \u001b[0mgtol\u001b[0m\u001b[0;34m=\u001b[0m\u001b[0mgtol\u001b[0m\u001b[0;34m,\u001b[0m\u001b[0;34m\u001b[0m\u001b[0;34m\u001b[0m\u001b[0m\n\u001b[1;32m    251\u001b[0m                                        \u001b[0mmaxfev\u001b[0m\u001b[0;34m=\u001b[0m\u001b[0mmaxiter\u001b[0m\u001b[0;34m,\u001b[0m \u001b[0mepsfcn\u001b[0m\u001b[0;34m=\u001b[0m\u001b[0meps\u001b[0m\u001b[0;34m,\u001b[0m\u001b[0;34m\u001b[0m\u001b[0;34m\u001b[0m\u001b[0m\n\u001b[0;32m--> 252\u001b[0;31m                                        factor=factor, diag=diag)\n\u001b[0m\u001b[1;32m    253\u001b[0m     sol = OptimizeResult(x=x, message=msg, status=ier,\n\u001b[1;32m    254\u001b[0m                          \u001b[0msuccess\u001b[0m\u001b[0;34m=\u001b[0m\u001b[0mier\u001b[0m \u001b[0;32min\u001b[0m \u001b[0;34m(\u001b[0m\u001b[0;36m1\u001b[0m\u001b[0;34m,\u001b[0m \u001b[0;36m2\u001b[0m\u001b[0;34m,\u001b[0m \u001b[0;36m3\u001b[0m\u001b[0;34m,\u001b[0m \u001b[0;36m4\u001b[0m\u001b[0;34m)\u001b[0m\u001b[0;34m,\u001b[0m \u001b[0mcov_x\u001b[0m\u001b[0;34m=\u001b[0m\u001b[0mcov_x\u001b[0m\u001b[0;34m,\u001b[0m\u001b[0;34m\u001b[0m\u001b[0;34m\u001b[0m\u001b[0m\n",
      "\u001b[0;32m~/anaconda3/envs/danilo_env_1/lib/python3.7/site-packages/scipy/optimize/minpack.py\u001b[0m in \u001b[0;36mleastsq\u001b[0;34m(func, x0, args, Dfun, full_output, col_deriv, ftol, xtol, gtol, maxfev, epsfcn, factor, diag)\u001b[0m\n\u001b[1;32m    385\u001b[0m \u001b[0;34m\u001b[0m\u001b[0m\n\u001b[1;32m    386\u001b[0m     \u001b[0;32mif\u001b[0m \u001b[0mn\u001b[0m \u001b[0;34m>\u001b[0m \u001b[0mm\u001b[0m\u001b[0;34m:\u001b[0m\u001b[0;34m\u001b[0m\u001b[0;34m\u001b[0m\u001b[0m\n\u001b[0;32m--> 387\u001b[0;31m         \u001b[0;32mraise\u001b[0m \u001b[0mTypeError\u001b[0m\u001b[0;34m(\u001b[0m\u001b[0;34m'Improper input: N=%s must not exceed M=%s'\u001b[0m \u001b[0;34m%\u001b[0m \u001b[0;34m(\u001b[0m\u001b[0mn\u001b[0m\u001b[0;34m,\u001b[0m \u001b[0mm\u001b[0m\u001b[0;34m)\u001b[0m\u001b[0;34m)\u001b[0m\u001b[0;34m\u001b[0m\u001b[0;34m\u001b[0m\u001b[0m\n\u001b[0m\u001b[1;32m    388\u001b[0m \u001b[0;34m\u001b[0m\u001b[0m\n\u001b[1;32m    389\u001b[0m     \u001b[0;32mif\u001b[0m \u001b[0mepsfcn\u001b[0m \u001b[0;32mis\u001b[0m \u001b[0;32mNone\u001b[0m\u001b[0;34m:\u001b[0m\u001b[0;34m\u001b[0m\u001b[0;34m\u001b[0m\u001b[0m\n",
      "\u001b[0;31mTypeError\u001b[0m: Improper input: N=30 must not exceed M=23"
     ]
    }
   ],
   "source": [
    "X_GUESS = np.array([-1.0 for i in range(len(species)-1-reaction_system.num_of_feeds)])\n",
    "solution_fixed = pyequion.solve_solution_fixed_species_pre_loaded(comps_vals_fixed,\n",
    "                                              reaction_system,\n",
    "                                              X_GUESS,\n",
    "                                              TC=300.0-273.15)"
   ]
  },
  {
   "cell_type": "code",
   "execution_count": 17,
   "metadata": {},
   "outputs": [
    {
     "data": {
      "text/plain": [
       "7"
      ]
     },
     "execution_count": 17,
     "metadata": {},
     "output_type": "execute_result"
    }
   ],
   "source": [
    "reaction_system.num_of_feeds"
   ]
  },
  {
   "cell_type": "code",
   "execution_count": null,
   "metadata": {},
   "outputs": [],
   "source": []
  }
 ],
 "metadata": {
  "kernelspec": {
   "display_name": "Python 3",
   "language": "python",
   "name": "python3"
  },
  "language_info": {
   "codemirror_mode": {
    "name": "ipython",
    "version": 3
   },
   "file_extension": ".py",
   "mimetype": "text/x-python",
   "name": "python",
   "nbconvert_exporter": "python",
   "pygments_lexer": "ipython3",
   "version": "3.7.7"
  }
 },
 "nbformat": 4,
 "nbformat_minor": 2
}
